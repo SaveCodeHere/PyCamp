{
 "cells": [
  {
   "cell_type": "markdown",
   "id": "692a878b",
   "metadata": {},
   "source": [
    "# Problem Set 4: Functions & Variables - Einstein\n",
    "\n",
    "## Concepts Covered\n",
    "- Variables: Storing and working with numbers\n",
    "- Mathematical Operations: Multiplication\n",
    "- Constants: Working with fixed values\n",
    "- `input()`: Getting numeric input from user\n",
    "- Type Conversion: Converting strings to integers\n",
    "- `print()`: Displaying calculated results\n",
    "\n",
    "---\n",
    "\n",
    "## Problem Statement\n",
    "\n",
    "Even if you haven't studied physics (recently or ever!), you might have heard that E = mc², wherein E represents energy (measured in Joules), m represents mass (measured in kilograms), and c represents the speed of light (measured in meters per second), which is approximately 300000000. Write a program in Python that prompts the user for mass as an integer (in kilograms) and then outputs the equivalent energy in Joules, as calculated using Einstein's famous formula.\n",
    "\n",
    "**Input:**\n",
    "The program should prompt the user for mass in kilograms (as an integer).\n",
    "\n",
    "**Output:**\n",
    "The program should output the equivalent energy in Joules (as an integer).\n",
    "\n",
    "---\n",
    "\n",
    "## Hints (Optional)\n",
    "\n",
    "- The speed of light is 300,000,000 meters per second\n",
    "- Remember to square the speed of light (c²)\n",
    "- Consider using Python's exponentiation operator (**)\n",
    "- The formula is E = mc², where m is the user's input and c is 300000000\n",
    "\n",
    "---"
   ]
  }
 ],
 "metadata": {
  "language_info": {
   "name": "python"
  }
 },
 "nbformat": 4,
 "nbformat_minor": 5
}
