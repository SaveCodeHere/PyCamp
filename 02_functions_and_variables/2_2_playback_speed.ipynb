{
 "cells": [
  {
   "cell_type": "markdown",
   "metadata": {},
   "source": [
    "# Problem Set 2: Functions & Variables - Playback Speed\n",
    "\n",
    "## Concepts Covered\n",
    "- String methods (`.replace()`)\n",
    "- Functions and variables\n",
    "- User input/output\n",
    "\n",
    "## Problem Statement\n",
    "Write a program that prompts the user for input and then outputs that same input, replacing each space with ... (i.e., three periods).\n",
    "\n",
    "### Example:\n",
    "- Input: `This is CS50`\n",
    "- Output: `This...is...CS50`"
   ]
  },
  {
   "cell_type": "code",
   "execution_count": null,
   "metadata": {},
   "source": [
    "def main():\n",
    "    # Get input from user\n",
    "    text = input()\n",
    "    \n",
    "    # Replace spaces with ...\n",
    "    slow_text = text.replace(\" \", \"...\")\n",
    "    \n",
    "    # Output the result\n",
    "    print(slow_text)\n",
    "\n",
    "if __name__ == \"__main__\":\n",
    "    main()"
   ]
  }
 ],
 "metadata": {
  "kernelspec": {
   "display_name": "Python 3",
   "language": "python",
   "name": "python3"
  }
 }
}