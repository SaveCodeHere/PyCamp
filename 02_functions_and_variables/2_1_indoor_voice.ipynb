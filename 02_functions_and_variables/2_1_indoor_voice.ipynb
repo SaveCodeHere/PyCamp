{
 "cells": [
  {
   "cell_type": "markdown",
   "id": "c76a9654",
   "metadata": {},
   "source": [
    "# Problem Set 1: Functions & Variables - Indoor Voice\n",
    "\n",
    "## Concepts Covered\n",
    "- `input()`: Getting text input from the user.\n",
    "- Variables: Storing data (like user input) using names.\n",
    "- String Methods: `.lower()` for converting a string to lowercase.\n",
    "- Defining Simple Functions: `def function_name():` (though not strictly required for this specific problem, it's good practice to start thinking about).\n",
    "- `print()`: Displaying output.\n",
    "\n",
    "---\n",
    "\n",
    "## Problem Statement\n",
    "\n",
    "In a file called `indoor.py` (or in the cell below for this notebook), implement a program in Python that prompts the user for input and then outputs that same input in lowercase. Punctuation and whitespace should be outputted unchanged. You’re welcome, but not required, to prompt the user explicitly by passing a string to `input`.\n",
    "\n",
    "**Input:**\n",
    "The program should expect a single line of text from the user.\n",
    "\n",
    "**Output:**\n",
    "The program should output the user's input, converted entirely to lowercase.\n",
    "\n",
    "---\n",
    "\n",
    "## Hints (Optional)\n",
    "\n",
    "- Remember that the `input()` function returns a string.\n",
    "- Look up Python string methods. There's one that's perfect for this!\n",
    "\n",
    "---\n",
    "\n"
   ]
  }
 ],
 "metadata": {
  "language_info": {
   "name": "python"
  }
 },
 "nbformat": 4,
 "nbformat_minor": 5
}
