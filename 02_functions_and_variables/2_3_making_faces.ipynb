{
 "cells": [
  {
   "cell_type": "markdown",
   "id": "82f9b0e6",
   "metadata": {},
   "source": [
    "# Problem Set 3: Functions & Variables - Making Faces\n",
    "\n",
    "## Concepts Covered\n",
    "- String manipulation\n",
    "- Function definition\n",
    "- Return values\n",
    "- Text substitution\n",
    "- Basic input/output operations\n",
    "\n",
    "---\n",
    "\n",
    "## Problem Statement\n",
    "\n",
    "In a file called `faces.py` (or in the cell below for this notebook), implement a function called `convert` that accepts a string as input and returns that same string with any `:)` converted to 🙂 and any `:(` converted to 🙁. All other text should be returned unchanged.\n",
    "\n",
    "Then, in a `main` function, prompt the user for input, call `convert` on that input, and print the result. You're welcome, but not required, to prompt the user explicitly.\n",
    "\n",
    "**Input:**\n",
    "The program should expect a string from the user that might contain `:)` and/or `:(`\n",
    "\n",
    "**Output:**\n",
    "The program should output the same string but with emoticons converted to emojis.\n",
    "\n",
    "**Examples:**\n",
    "- Input: `Hello :)`\n",
    "  Output: `Hello 🙂`\n",
    "- Input: `Hello :( Goodbye :)`\n",
    "  Output: `Hello 🙁 Goodbye 🙂`\n",
    "\n",
    "---\n",
    "\n",
    "## Hints (Optional)\n",
    "\n",
    "- You can use the string `replace()` method to substitute one string for another\n",
    "- Remember that functions should have a clear single responsibility\n",
    "- Test your function with various combinations of emoticons\n",
    "\n",
    "---"
   ]
  }
 ],
 "metadata": {
  "language_info": {
   "name": "python"
  }
 },
 "nbformat": 4,
 "nbformat_minor": 5
}
