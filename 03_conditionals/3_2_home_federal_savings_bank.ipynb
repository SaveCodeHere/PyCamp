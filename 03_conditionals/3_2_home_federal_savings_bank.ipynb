{
 "cells": [
  {
   "cell_type": "markdown",
   "id": "b739d782",
   "metadata": {},
   "source": [
    "# Problem Set 2: Conditionals - Home Federal Savings Bank\n",
    "\n",
    "## Concepts Covered\n",
    "- `input()` for user input\n",
    "- String methods: `.lower()`, `.strip()`\n",
    "- Conditional statements: `if`, `elif`, `else`\n",
    "- Case-insensitive string comparison\n",
    "- String concatenation or f-strings for output\n",
    "\n",
    "---\n",
    "\n",
    "## Problem Statement\n",
    "\n",
    "In a banking application, different greetings should receive different responses. Implement a program that prompts the user for a greeting. Based on the greeting, your program should output:\n",
    "- $0 if the greeting starts with \"hello\"\n",
    "- $20 if the greeting starts with \"h\" (but not \"hello\")\n",
    "- $100 for any other greeting\n",
    "\n",
    "The program should be case-insensitive, meaning \"Hello\", \"HELLO\", and \"hello\" should all be treated the same way. The greeting may have leading whitespace that should be ignored.\n",
    "\n",
    "**Input:**\n",
    "- A single string representing a greeting\n",
    "\n",
    "**Output:**\n",
    "- An integer representing the amount in dollars ($0, $20, or $100)\n",
    "\n",
    "---\n",
    "\n",
    "## Examples\n",
    "```\n",
    "Input: Hello\n",
    "Output: 0\n",
    "\n",
    "Input: Hey\n",
    "Output: 20\n",
    "\n",
    "Input: What's up!\n",
    "Output: 100\n",
    "```\n",
    "\n",
    "---\n",
    "\n",
    "## Hints (Optional)\n",
    "1. Remove any leading/trailing whitespace with `.strip()`\n",
    "2. Convert the input to lowercase with `.lower()`\n",
    "3. Use `startswith()` or string slicing to check the beginning of the greeting\n",
    "4. Remember to check for \"hello\" before checking for \"h\"\n",
    "\n",
    "---"
   ]
  }
 ],
 "metadata": {
  "language_info": {
   "name": "python"
  }
 },
 "nbformat": 4,
 "nbformat_minor": 5
}
