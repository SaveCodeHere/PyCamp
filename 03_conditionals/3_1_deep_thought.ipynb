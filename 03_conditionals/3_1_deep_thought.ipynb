{
 "cells": [
  {
   "cell_type": "markdown",
   "id": "b7f46699",
   "metadata": {},
   "source": [
    "# Problem Set 1: Conditionals - Deep Thought\n",
    "\n",
    "## Concepts Covered\n",
    "- Conditional Statements: if/elif/else\n",
    "- String Comparison\n",
    "- `input()`: Getting text input from user\n",
    "- String Methods: `.lower()`, `.strip()`\n",
    "- `print()`: Displaying output\n",
    "- Boolean Logic\n",
    "\n",
    "---\n",
    "\n",
    "## Problem Statement\n",
    "\n",
    "In Douglas Adams' \"The Hitchhiker's Guide to the Galaxy,\" a supercomputer named Deep Thought spent 7.5 million years computing the answer to the \"great question of life, the universe, and everything.\" The answer turned out to be 42. Write a program that prompts the user for the answer to the great question of life, the universe, and everything, and outputs \"Yes\" if the user inputs 42, \"forty-two\", or \"forty two\". Otherwise output \"No\".\n",
    "\n",
    "**Input:**\n",
    "The program should prompt the user for the answer to life, the universe and everything.\n",
    "\n",
    "**Output:**\n",
    "The program should output either \"Yes\" or \"No\" depending on whether the input matches any form of \"42\".\n",
    "\n",
    "---\n",
    "\n",
    "## Hints (Optional)\n",
    "\n",
    "- Consider using `.lower()` to handle capitalization\n",
    "- Remember `.strip()` to handle extra whitespace\n",
    "- The answer can be written in multiple ways (42, forty-two, forty two)\n",
    "- Use conditional statements to check for different forms of the answer\n",
    "\n",
    "---"
   ]
  }
 ],
 "metadata": {
  "language_info": {
   "name": "python"
  }
 },
 "nbformat": 4,
 "nbformat_minor": 5
}
