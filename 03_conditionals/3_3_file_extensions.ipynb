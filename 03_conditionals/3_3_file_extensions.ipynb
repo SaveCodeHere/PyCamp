{
 "cells": [
  {
   "cell_type": "markdown",
   "id": "395e4cd9",
   "metadata": {},
   "source": [
    "# Problem Set 3: Conditionals - File Extensions\n",
    "\n",
    "## Concepts Covered\n",
    "- `input()` for user input.\n",
    "- String methods:\n",
    "    - `.lower()` to handle case-insensitivity.\n",
    "    - `.strip()` to remove leading/trailing whitespace.\n",
    "    - `.endswith()` to check the suffix of a string.\n",
    "    - `.split()` (specifically `.rsplit('.', 1)` can be useful for getting the last extension).\n",
    "- Conditional statements: `if`, `elif`, `else`.\n",
    "- String concatenation or f-strings for output.\n",
    "\n",
    "---\n",
    "\n",
    "## Problem Statement\n",
    "\n",
    "Even if filename extensions are not OS-enforced, they are still useful for humans and programs to identify file types. In a program, implement logic that prompts the user for the name of a file and then outputs that file’s media type if the file’s name ends, case-insensitively, in any of these suffixes:\n",
    "-   `.gif`\n",
    "-   `.jpg`\n",
    "-   `.jpeg`\n",
    "-   `.png`\n",
    "-   `.pdf`\n",
    "-   `.txt`\n",
    "-   `.zip`\n",
    "\n",
    "If the file’s name ends with some other suffix or has no suffix at all, output `application/octet-stream` instead, which is a common default.\n",
    "\n",
    "**Input:**\n",
    "A single string representing a filename.\n",
    "\n",
    "**Output:**\n",
    "The corresponding media type, or `application/octet-stream`.\n",
    "\n",
    "---\n",
    "**Specific Mappings:**\n",
    "-   `.gif` -> `image/gif`\n",
    "-   `.jpg` -> `image/jpeg`\n",
    "-   `.jpeg` -> `image/jpeg` (note: both .jpg and .jpeg map to image/jpeg)\n",
    "-   `.png` -> `image/png`\n",
    "-   `.pdf` -> `application/pdf`\n",
    "-   `.txt` -> `text/plain`\n",
    "-   `.zip` -> `application/zip`\n",
    "\n",
    "---\n",
    "\n",
    "## Hints (Optional)\n",
    "\n",
    "1.  You can get the user's input and convert it to lowercase immediately to simplify comparisons.\n",
    "2.  The `.strip()` method is useful for removing any accidental spaces the user might type around the filename.\n",
    "3.  Think about how to isolate the extension. The `rsplit('.', 1)` method can split a string from the right at the first occurrence of a character, which is handy for extensions like `archive.tar.gz` (you'd want `gz`). If no `.` is found, it will return a list with the original string.\n",
    "4.  Alternatively, `.endswith()` can check for multiple extensions directly in your `if/elif` chain.\n",
    "\n",
    "---"
   ]
  },
  {
   "cell_type": "code",
   "execution_count": null,
   "id": "29ab2e65",
   "metadata": {},
   "outputs": [],
   "source": []
  }
 ],
 "metadata": {
  "language_info": {
   "name": "python"
  }
 },
 "nbformat": 4,
 "nbformat_minor": 5
}
